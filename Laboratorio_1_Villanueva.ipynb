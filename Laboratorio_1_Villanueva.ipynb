{
  "nbformat": 4,
  "nbformat_minor": 0,
  "metadata": {
    "colab": {
      "provenance": [],
      "authorship_tag": "ABX9TyNX+xMg4gOeOmF1BdHZlPoC",
      "include_colab_link": true
    },
    "kernelspec": {
      "name": "python3",
      "display_name": "Python 3"
    },
    "language_info": {
      "name": "python"
    }
  },
  "cells": [
    {
      "cell_type": "markdown",
      "metadata": {
        "id": "view-in-github",
        "colab_type": "text"
      },
      "source": [
        "<a href=\"https://colab.research.google.com/github/FabianVillanueva/Laboratirio1/blob/main/Laboratorio_1_Villanueva.ipynb\" target=\"_parent\"><img src=\"https://colab.research.google.com/assets/colab-badge.svg\" alt=\"Open In Colab\"/></a>"
      ]
    },
    {
      "cell_type": "code",
      "execution_count": 6,
      "metadata": {
        "colab": {
          "base_uri": "https://localhost:8080/"
        },
        "id": "mDS-RYoUiPYM",
        "outputId": "531ca361-236d-4611-91a1-b4df6de858f7"
      },
      "outputs": [
        {
          "output_type": "stream",
          "name": "stdout",
          "text": [
            "   id   name  age\n",
            "0   1  Alice   25\n",
            "1   2    Bob   30\n",
            "2   3  Carol   35\n"
          ]
        }
      ],
      "source": [
        "import pandas as pd\n",
        "\n",
        "data = [\n",
        "    [1, \"Alice\", 25],\n",
        "    [2, \"Bob\", 30],\n",
        "    [3, \"Carol\", 35],\n",
        "]\n",
        "\n",
        "df = pd.DataFrame(data, columns=[\"id\", \"name\", \"age\"])\n",
        "print(df)\n",
        "\n"
      ]
    },
    {
      "cell_type": "markdown",
      "source": [
        "[texto del enlace](https://)# Nueva sección"
      ],
      "metadata": {
        "id": "cHhpv5rBp92k"
      }
    },
    {
      "cell_type": "code",
      "source": [],
      "metadata": {
        "id": "JgNHxiGIqI6q"
      },
      "execution_count": null,
      "outputs": []
    },
    {
      "cell_type": "code",
      "source": [
        "from google.colab import drive\n",
        "drive.mount('/content/drive')"
      ],
      "metadata": {
        "id": "Gi-ahaE_qW2U"
      },
      "execution_count": null,
      "outputs": []
    }
  ]
}